{
 "cells": [
  {
   "cell_type": "code",
   "execution_count": 3,
   "metadata": {},
   "outputs": [],
   "source": [
    "def minimum(num_a, num_b):\n",
    "    if num_a < num_b:\n",
    "        return num_a\n",
    "    else:\n",
    "        return num_b"
   ]
  },
  {
   "cell_type": "code",
   "execution_count": 4,
   "metadata": {},
   "outputs": [],
   "source": [
    "def hamming(seq_a,seq_b):\n",
    "    \n",
    "    distance = 0\n",
    "    \n",
    "    for i in range(len(seq_a)):\n",
    "        if seq_a[i] != seq_b[i]: # find when nucleotides do not match\n",
    "            distance = distance +1 # add to Hamming distance\n",
    "            \n",
    "    return distance"
   ]
  },
  {
   "cell_type": "code",
   "execution_count": 5,
   "metadata": {},
   "outputs": [],
   "source": [
    "def find_motif(motif,sequence):\n",
    "        \n",
    "    start_loc = None\n",
    "    L = len(motif)\n",
    "    \n",
    "    for i in range(len(sequence)):\n",
    "        # If this is the correct start position, then the next L characters will match motif\n",
    "        if sequence[i:i+L] == motif:\n",
    "            start_loc = i\n",
    "            \n",
    "    return start_loc\n",
    "\n",
    "# There are often several ways to write a function. Here is another one that allows for an early return\n",
    "\n",
    "def find_motif_2(motif,sequence):\n",
    "        \n",
    "    L = len(motif)\n",
    "    \n",
    "    for i in range(len(sequence)):\n",
    "        # you can return immediately when you find start\n",
    "        if sequence[i:i+L] == motif:\n",
    "            return i \n",
    "        \n",
    "    # if you didn't find the starting position after searching the whole string, return None        \n",
    "    return None "
   ]
  },
  {
   "cell_type": "code",
   "execution_count": null,
   "metadata": {},
   "outputs": [],
   "source": []
  }
 ],
 "metadata": {
  "kernelspec": {
   "display_name": "Python 3",
   "language": "python",
   "name": "python3"
  },
  "language_info": {
   "codemirror_mode": {
    "name": "ipython",
    "version": 3
   },
   "file_extension": ".py",
   "mimetype": "text/x-python",
   "name": "python",
   "nbconvert_exporter": "python",
   "pygments_lexer": "ipython3",
   "version": "3.6.4"
  }
 },
 "nbformat": 4,
 "nbformat_minor": 4
}
