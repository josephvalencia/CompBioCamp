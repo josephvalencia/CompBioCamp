{
 "cells": [
  {
   "cell_type": "markdown",
   "metadata": {},
   "source": [
    "# Welcome to Comp Bio Camp 2020 !!"
   ]
  },
  {
   "cell_type": "markdown",
   "metadata": {},
   "source": [
    "Here you will use the power of the Python programming language to explore the fascinating world of DNA and RNA Let's get started!"
   ]
  },
  {
   "cell_type": "markdown",
   "metadata": {},
   "source": [
    "First off, a little about your Jupyter notebook. The bar you see below is a code cell, where we can write and run Python code to solve problems. Sometimes, the code will be written for you. At other times, it will be up to you to complete the program. Don't worry, there will be plenty of instructions along the way and you can always ask an instructor if you get stuck.\n",
    "\n",
    "To run a code cell, press Shift-Enter. Write your name between the quotes in the cell below and run it."
   ]
  },
  {
   "cell_type": "code",
   "execution_count": 5,
   "metadata": {},
   "outputs": [
    {
     "name": "stdout",
     "output_type": "stream",
     "text": [
      "Hello World, my name is Joseph\n"
     ]
    }
   ],
   "source": [
    "your_name = \"\"\n",
    "print(\"Hello World, my name is \" + your_name)"
   ]
  },
  {
   "cell_type": "markdown",
   "metadata": {},
   "source": [
    "Congratulations! That was your very first program, the traditional \"Hello World\" "
   ]
  },
  {
   "cell_type": "markdown",
   "metadata": {},
   "source": [
    "Test"
   ]
  },
  {
   "cell_type": "code",
   "execution_count": null,
   "metadata": {},
   "outputs": [],
   "source": []
  }
 ],
 "metadata": {
  "kernelspec": {
   "display_name": "Python 3",
   "language": "python",
   "name": "python3"
  },
  "language_info": {
   "codemirror_mode": {
    "name": "ipython",
    "version": 3
   },
   "file_extension": ".py",
   "mimetype": "text/x-python",
   "name": "python",
   "nbconvert_exporter": "python",
   "pygments_lexer": "ipython3",
   "version": "3.6.4"
  }
 },
 "nbformat": 4,
 "nbformat_minor": 4
}
