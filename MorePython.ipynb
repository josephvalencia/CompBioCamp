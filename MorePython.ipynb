{
 "cells": [
  {
   "cell_type": "markdown",
   "metadata": {},
   "source": [
    "# Thank you for attending Comp Bio Camp 2020 !"
   ]
  },
  {
   "cell_type": "markdown",
   "metadata": {},
   "source": [
    "So far, you have learned how to build strings, step throught them with for loops, store data in a dictionary, and more. This notebook will help you build on your skills to keep exploring the fascinating world of molecular biology. Let's get started!"
   ]
  },
  {
   "cell_type": "markdown",
   "metadata": {},
   "source": [
    "## Lists"
   ]
  },
  {
   "cell_type": "markdown",
   "metadata": {},
   "source": [
    "A list is a data structure that stores its items in a specific order. In Python, lists are constructed using square brackets `[]` , with a comma separating each item."
   ]
  },
  {
   "cell_type": "code",
   "execution_count": 1,
   "metadata": {},
   "outputs": [],
   "source": [
    "grocery_list = ['milk','cereal','orange juice']\n",
    "movie_ratings = [6,5,10,8,7,9,2,7]"
   ]
  },
  {
   "cell_type": "markdown",
   "metadata": {},
   "source": [
    "You can use a for loop to step through items in a list, just like we learned with strings."
   ]
  },
  {
   "cell_type": "code",
   "execution_count": 2,
   "metadata": {},
   "outputs": [
    {
     "name": "stdout",
     "output_type": "stream",
     "text": [
      "For breakfast I have:\n",
      "milk\n",
      "cereal\n",
      "orange juice\n"
     ]
    }
   ],
   "source": [
    "print(\"For breakfast I have:\")\n",
    "for item in grocery_list:\n",
    "    print(item)"
   ]
  },
  {
   "cell_type": "markdown",
   "metadata": {},
   "source": [
    "Or we can access items in a list by their position, with the help of `range()`. "
   ]
  },
  {
   "cell_type": "code",
   "execution_count": 3,
   "metadata": {},
   "outputs": [
    {
     "name": "stdout",
     "output_type": "stream",
     "text": [
      "My Movie Reviews:\n",
      "Movie 0\n",
      "6\n",
      "Movie 1\n",
      "5\n",
      "Movie 2\n",
      "10\n",
      "Movie 3\n",
      "8\n",
      "Movie 4\n",
      "7\n",
      "Movie 5\n",
      "9\n",
      "Movie 6\n",
      "2\n",
      "Movie 7\n",
      "7\n"
     ]
    }
   ],
   "source": [
    "print(\"My Movie Reviews:\")\n",
    "for i in range(len(movie_ratings)):\n",
    "    print(\"Movie\",i)\n",
    "    print(movie_ratings[i])"
   ]
  },
  {
   "cell_type": "markdown",
   "metadata": {},
   "source": [
    "There are other ways to add items to a list. Starting from an empty list, we use `append()` to add data. "
   ]
  },
  {
   "cell_type": "code",
   "execution_count": 4,
   "metadata": {},
   "outputs": [
    {
     "name": "stdout",
     "output_type": "stream",
     "text": [
      "[0, 1, 2, 3, 4, 5, 6, 7, 8, 9, 10, 11, 12, 13, 14, 15, 16, 17, 18, 19]\n"
     ]
    }
   ],
   "source": [
    "my_list = []\n",
    "\n",
    "for i in range(20):\n",
    "    my_list.append(i)\n",
    "    \n",
    "print(my_list)"
   ]
  },
  {
   "cell_type": "markdown",
   "metadata": {},
   "source": [
    "Here is a special shortcut when you want a number of identical items in a list."
   ]
  },
  {
   "cell_type": "code",
   "execution_count": 6,
   "metadata": {},
   "outputs": [
    {
     "name": "stdout",
     "output_type": "stream",
     "text": [
      "['A', 'A', 'A', 'A', 'A', 'A', 'A', 'A', 'A', 'A', 'A', 'A', 'A', 'A', 'A']\n",
      "15\n",
      "[0, 0, 0, 0, 0, 0, 0]\n",
      "7\n"
     ]
    }
   ],
   "source": [
    "\n",
    "a = ['A']*15\n",
    "b = [0]*7\n",
    "\n",
    "print(a)\n",
    "print(len(a))\n",
    "print(b)\n",
    "print(len(b))"
   ]
  },
  {
   "cell_type": "markdown",
   "metadata": {},
   "source": [
    "You can slice a list just like a string."
   ]
  },
  {
   "cell_type": "code",
   "execution_count": 7,
   "metadata": {},
   "outputs": [
    {
     "name": "stdout",
     "output_type": "stream",
     "text": [
      "movie ratings [6, 5, 10, 8, 7, 9, 2, 7]\n",
      "recent movie ratings [7, 9, 2, 7]\n"
     ]
    }
   ],
   "source": [
    "print(\"movie ratings\",movie_ratings)\n",
    "recent_movies = movie_ratings[4:]\n",
    "print(\"recent movie ratings\",recent_movies)"
   ]
  },
  {
   "cell_type": "markdown",
   "metadata": {},
   "source": [
    "You can sort a list using `sort()`. When the list items are strings, they will be sorted in alphabetical order."
   ]
  },
  {
   "cell_type": "code",
   "execution_count": 8,
   "metadata": {},
   "outputs": [
    {
     "name": "stdout",
     "output_type": "stream",
     "text": [
      "unsorted ['Bob', 'Alice', 'Diane', 'Chris']\n",
      "sorted ['Alice', 'Bob', 'Chris', 'Diane']\n"
     ]
    }
   ],
   "source": [
    "names = ['Bob','Alice','Diane','Chris']\n",
    "print(\"unsorted\",names)\n",
    "names.sort()\n",
    "print(\"sorted\",names)"
   ]
  },
  {
   "cell_type": "markdown",
   "metadata": {},
   "source": [
    "When the items are numbers, the list sorts from smallest to largest"
   ]
  },
  {
   "cell_type": "code",
   "execution_count": 9,
   "metadata": {},
   "outputs": [
    {
     "name": "stdout",
     "output_type": "stream",
     "text": [
      "unsorted [6, 5, 10, 8, 7, 9, 2, 7]\n",
      "sorted [2, 5, 6, 7, 7, 8, 9, 10]\n"
     ]
    }
   ],
   "source": [
    "print(\"unsorted\",movie_ratings)\n",
    "movie_ratings.sort()\n",
    "print(\"sorted\",movie_ratings)"
   ]
  },
  {
   "cell_type": "markdown",
   "metadata": {},
   "source": [
    "Or sort from largest to smallest with the `reverse` keyword"
   ]
  },
  {
   "cell_type": "code",
   "execution_count": 10,
   "metadata": {},
   "outputs": [
    {
     "name": "stdout",
     "output_type": "stream",
     "text": [
      "descending sorted [10, 9, 8, 7, 7, 6, 5, 2]\n"
     ]
    }
   ],
   "source": [
    "movie_ratings.sort(reverse=True)\n",
    "print(\"descending sorted\",movie_ratings)"
   ]
  },
  {
   "cell_type": "markdown",
   "metadata": {},
   "source": [
    "## Functions"
   ]
  },
  {
   "cell_type": "markdown",
   "metadata": {},
   "source": [
    "Functions are used to group code into smaller units that perform specific tasks. The first line of a function is the function definition and begins with the `def` keyword. Next comes the function name and a set of parentheses. The variables inside the parentheses are called arguments, and will be used inside of the function body. Here is a function definition for finding the larger of two numbers."
   ]
  },
  {
   "cell_type": "markdown",
   "metadata": {},
   "source": [
    "`def maximum(num_a, num_b):`\n",
    "\n",
    "By itself, the function definition doesn't do anything, you have to fill in the function body. The `return` keyword causes a value to be assigned as the output value of the function. Here is one way to implement the `maximum` function."
   ]
  },
  {
   "cell_type": "code",
   "execution_count": 11,
   "metadata": {},
   "outputs": [],
   "source": [
    "def maximum(num_a, num_b):\n",
    "    if num_a > num_b:\n",
    "        return num_a\n",
    "    else:\n",
    "        return num_b"
   ]
  },
  {
   "cell_type": "markdown",
   "metadata": {},
   "source": [
    "Once defined, you can call the ```maximum``` function with different arguments. The arguments `num_a` and `num_b` are recognized according to the order of variables when you call the function."
   ]
  },
  {
   "cell_type": "code",
   "execution_count": 12,
   "metadata": {},
   "outputs": [
    {
     "name": "stdout",
     "output_type": "stream",
     "text": [
      "55\n",
      "44\n",
      "1\n"
     ]
    }
   ],
   "source": [
    "print(maximum(55,55))\n",
    "print(maximum(44,37))\n",
    "print(maximum(-1,1))"
   ]
  },
  {
   "cell_type": "markdown",
   "metadata": {},
   "source": [
    "### See if you can make a function to find the smaller of two numbers!"
   ]
  },
  {
   "cell_type": "code",
   "execution_count": null,
   "metadata": {},
   "outputs": [],
   "source": []
  },
  {
   "cell_type": "markdown",
   "metadata": {},
   "source": [
    "Let's combine what we have learned so far about functions and lists. Here is an example that extends the `maximum` function to find the largest element in a list."
   ]
  },
  {
   "cell_type": "code",
   "execution_count": null,
   "metadata": {},
   "outputs": [],
   "source": [
    "def max_in_list(my_list):\n",
    "    \n",
    "    current_max = None  # use None as a default value, an empty list has no max\n",
    "\n",
    "    for item in my_list:\n",
    "        if current_max == None: \n",
    "            current_max = item # the first item is initially the maximum\n",
    "        else:\n",
    "            current_max = maximum(current_max,item) # calling the maximum function from before\n",
    "            \n",
    "    return current_max\n",
    "            "
   ]
  },
  {
   "cell_type": "markdown",
   "metadata": {},
   "source": [
    "Notice how calling ```maximum``` allows you to reuse code you already wrote. Separating your code into functions can help make it efficient to write and easy to read. Try creating some lists to test ```max_in_list```."
   ]
  },
  {
   "cell_type": "code",
   "execution_count": null,
   "metadata": {},
   "outputs": [],
   "source": []
  },
  {
   "cell_type": "markdown",
   "metadata": {},
   "source": [
    "## Hamming Distance"
   ]
  },
  {
   "cell_type": "markdown",
   "metadata": {},
   "source": [
    "One of the ways that genomes evolve is through point mutations, which happen when a nucleotide is copied 'incorrectly'. For example, an adenine could be replaced with a guanine, A -> G. Occasionally, these mutations may actually give an evolutionary advantage to affected individuals, who may pass the changes to their offspring. and the genome will change over many generations.\n",
    "\n",
    "Hamming distance is one measure of how much a DNA or RNA sequence has mutated away from its original ancestor sequence. Hamming distance is defined as the number of nucleotide positions that do not match between the two sequences. The sequences must be the same length.\n",
    "\n",
    "For example:\n",
    "\n",
    "<table>\n",
    "  <tr>\n",
    "      <td><b>seq1:</b></td>\n",
    "    <td>A</td>\n",
    "    <td>C</td>\n",
    "    <td>C</td>\n",
    "    <td>C</td>\n",
    "    <td>U</td>\n",
    "    <td>G</td>\n",
    "    <td>A</td>\n",
    "    <td>A</td>\n",
    "    <td>A</td>\n",
    "    <td>A</td>\n",
    "  </tr>\n",
    "    \n",
    "   <tr>\n",
    "       <td><b>seq2:</b></td>\n",
    "    <td>A</td>\n",
    "    <td>G</td>\n",
    "    <td>C</td>\n",
    "    <td>C</td>\n",
    "    <td>U</td>\n",
    "    <td>G</td>\n",
    "    <td>A</td>\n",
    "    <td>U</td>\n",
    "    <td>C</td>\n",
    "    <td>A</td>\n",
    "  </tr>\n",
    "  \n",
    "  <tr>\n",
    "    <td></td>\n",
    "    <td></td>\n",
    "    <td><b>x</b></td>\n",
    "    <td></td>\n",
    "    <td></td>\n",
    "    <td></td>\n",
    "    <td></td>\n",
    "    <td></td>\n",
    "    <td><b>x</b></td>\n",
    "    <td><b>x</b></td>\n",
    "    <td></td>\n",
    "  </tr>\n",
    "</table>\n",
    "\n",
    "*Hamming distance = 3*\n",
    "\n",
    "### Finish this function to calculate Hamming distance.\n",
    "\n",
    "**Hint :** How can you use `range()` to access the same position in `seq_a` and `seq_b` ? Try adding 1 to `distance` whenever you find a matching nucleotide. You will need `==` to test for matching nucleotides."
   ]
  },
  {
   "cell_type": "code",
   "execution_count": null,
   "metadata": {},
   "outputs": [],
   "source": [
    "def hamming(seq_a,seq_b):\n",
    "    \n",
    "    distance = 0\n",
    "    \n",
    "    # complete the function\n",
    "\n",
    "    return distance"
   ]
  },
  {
   "cell_type": "markdown",
   "metadata": {},
   "source": [
    "Confirm that your function output is 3, 6, 0 for the following examples. If not, keep trying. You can refer to Solutions.ipynb if you get really stuck."
   ]
  },
  {
   "cell_type": "code",
   "execution_count": null,
   "metadata": {},
   "outputs": [],
   "source": [
    "a = 'ACCCTGAAAA'\n",
    "b = 'AGCCTGATCA'\n",
    "print(hamming(a,b))\n",
    "\n",
    "c = \"AATGCACCT\"\n",
    "d = \"ATCGCGGAC\"\n",
    "print(hamming(c,d))\n",
    "\n",
    "e = \"AAAA\"\n",
    "f = \"AAAA\"\n",
    "print(hamming(e,f))\n"
   ]
  },
  {
   "cell_type": "markdown",
   "metadata": {},
   "source": [
    "## Exact Motif Finding\n",
    "\n",
    "The following are real biological sequences."
   ]
  },
  {
   "cell_type": "code",
   "execution_count": null,
   "metadata": {},
   "outputs": [],
   "source": [
    "# OXA1L_HUMAN Mitochondrial inner membrane protein\n",
    "oxa_1L = \"MAMGLMCGRRELLRLLQSGRRVHSVAGPSQWLGKPLTTRLLFPVAPCCCRPHYLFLAASGPRSLSTSAISFAEVQVQAPPVVAATPSPTAVPEVASGETADVVQTAAEQSFAELGLGSYTPVGLIQNLLEFMHVDLGLPWWGAIAACTVFARCLIFPLIVTGQREAARIHNHLPEIQKFSSRIREAKLAGDHIEYYKASSEMALYQKKHGIKLYKPLILPVTQAPIFISFFIALREMANLPVPSLQTGGLWWFQDLTVSDPIYILPLAVTATMWAVLELGAETGVQSSDLQWMRNVIRMMPLITLPITMHFPTAVFMYWLSSNLFSLVQVSCLRIPAVRTVLKIPQRVVHDLDKLPPREGFLESFKKGWKNAEMTRQLREREQRMRNQLELAARGPLRQTFTHNPLLQPGKDNPPNIPSSSSKPKSKYPWHDTLG\"\n",
    "\n",
    "# NM_031286.4 Homo sapiens SH3 domain binding glutamate rich protein like 3 (SH3BGRL3), mRNA\n",
    "sh_3 = \"GTCGTCTCCCGGCAGTGCAGCTGCCGCTACCGCCGCCCTCTGCCCGCCGGCCCGTCTGTCTACCCCCAGCATGAGCGGCCTGCGCGTCTACAGCACGTCGGTCACCGGCTCCCGCGAAATCAAGTCCCAGCAGAGCGAGGTGACCCGAATCCTGGATGGGAAGCGCATCCAATACCAGCTAGTGGACATCTCCCAGGACAACGCCCTGAGGGATGAGATGCGAGCCTTGGCAGGCAACCCCAAGGCCACCCCACCCCAGATTGTCAACGGGGACCAGTACTGTGGGGACTATGAGCTCTTCGTGGAGGCTGTGGAACAAAACACGCTGCAGGAGTTCCTGAAGCTGGCTTGAGTCAAGCCTGTCCAGAGTTCCCCTGCTGGACTCCATCACCACACTCCCCCCAGCCTTCACCTGGCCATGAAGGACCTTTTGACCAACTCCCTGTCATTCCTAACCTAACCTTAGAGTCCCTCCCCCAATGCAGGCCACTTCTCCTCCCTCCTCTCTAAATGTAGTCCCCTCTCCTCCATCTAAAGGCAACATTCCTTACCCATTAGTCTCAGAAATTGTCTTAAGCAACAGCCCCAAATGCTGGCTGCCCCCAGCCAAGCATTGGGGCCGCCATCCTGCCTGGCACTGGCTGATGGGCACCTCTGTTGGTTCCATCAGCCAGAGCTCTGCCAAAGGCCCCGCAGTCCCTCTCCCAGGAGGACCCTAGAGGCAATTAAATGATGTCCTGTTCCATTGGCA\""
   ]
  },
  {
   "cell_type": "markdown",
   "metadata": {},
   "source": [
    "Imagine that you are searching for a short pattern within the larger string of letters. This is called motif finding, and it can be difficult to do by eye. Try looking for the motif \"LYKPLILPV\" in the first protein. Good luck finding \"ATCCTGCCTGGCACTGGCTGATG\" in the mRNA string!  \n",
    "\n",
    "Many sequences in bioinformatics are much longer than these examples, with many genes containing tens of thousands of base pairs. A function for quickly locating the motif could help us greatly."
   ]
  },
  {
   "cell_type": "markdown",
   "metadata": {},
   "source": [
    "That is where you come in. Write a function matching the definition  \n",
    "\n",
    "### `def find_motif(motif,sequence):`\n",
    "\n",
    "where `motif` is the smaller sequence that you are searching for, and `sequence` is the larger sequence that you are searching inside of.\n",
    "\n",
    "Your function should return one number, which is the position within `sequence` where `motif` starts. If `motif` is not found inside of `sequence`, return `None`\n",
    "\n",
    "**Hint :** You may want to use the string slicing operator `sequence[start:end]`. Suppose that `motif` has length `L`. How can you find a `position` where `sequence[position: ???] == motif` ?"
   ]
  },
  {
   "cell_type": "code",
   "execution_count": null,
   "metadata": {},
   "outputs": [],
   "source": []
  },
  {
   "cell_type": "markdown",
   "metadata": {},
   "source": [
    "Run this cell to test your function."
   ]
  },
  {
   "cell_type": "code",
   "execution_count": null,
   "metadata": {},
   "outputs": [],
   "source": [
    "motif_a  = \"LYKPLILPV\"\n",
    "start_a = find_motif(motif_a,oxa_1L)\n",
    "print(start_a)"
   ]
  },
  {
   "cell_type": "markdown",
   "metadata": {},
   "source": [
    "Did you get 212 ?\n",
    "\n",
    "Here is a function to print a sequence with `motif` highlighted. It's a little complicated, so you don't need to understand how it works, but notice the function definition so that you know how to call it."
   ]
  },
  {
   "cell_type": "code",
   "execution_count": null,
   "metadata": {},
   "outputs": [],
   "source": [
    "from IPython.core.display import display,HTML\n",
    "\n",
    "def highlight_motif_HTML(start,motif,sequence):\n",
    "    # print HTML with pretty highlighting\n",
    "    \n",
    "    if start == None:\n",
    "        display(HTML(\"<p>¯\\_(ツ)_/¯</p>\"))\n",
    "    else:\n",
    "        rendering = [\"<p>\"]\n",
    "        end = start+len(motif)-1\n",
    "    \n",
    "        for i in range(len(sequence)):    \n",
    "            if i == start:\n",
    "                rendering.append(\"<mark>\")\n",
    "            rendering.append(sequence[i])\n",
    "            if i == end:\n",
    "                rendering.append(\"</mark>\")\n",
    "            if (i+1) % 50 == 0:\n",
    "                rendering.append(\"<br>\")\n",
    "    \n",
    "        rendering.append(\"</p>\")\n",
    "    \n",
    "        display(HTML(''.join(rendering)))\n",
    "   "
   ]
  },
  {
   "cell_type": "markdown",
   "metadata": {},
   "source": [
    "Here is an example using the start position returned from `find_motif` "
   ]
  },
  {
   "cell_type": "code",
   "execution_count": null,
   "metadata": {},
   "outputs": [],
   "source": [
    "highlight_motif_HTML(start_a,motif_a,oxa_1L)"
   ]
  },
  {
   "cell_type": "markdown",
   "metadata": {},
   "source": [
    "Use `find_motif` and `highlight_motif_HTML` to identify the motif \"ATCCTGCCTGGCACTGGCTGATG\" inside of `sh_3`"
   ]
  },
  {
   "cell_type": "code",
   "execution_count": null,
   "metadata": {},
   "outputs": [],
   "source": []
  },
  {
   "cell_type": "markdown",
   "metadata": {},
   "source": [
    "This is a very strict definition of motif finding that requires an exact match to the motif, but it can be solved with a relatively simple function. The BLAST tool that you used during camp uses a much more complicated\n",
    "algorithm that allows for gaps and partial matches between two sequences."
   ]
  },
  {
   "cell_type": "markdown",
   "metadata": {},
   "source": [
    "## Finding a Consensus Sequence"
   ]
  },
  {
   "cell_type": "markdown",
   "metadata": {},
   "source": [
    "Suppose that we have a collection of DNA or RNA that we believe to be closely related. Think back to phylogenetic tree activity and how we defined evolutionary relationships based on genomic similarity. Now we would like to discover the most likely common ancestor, the sequence that all of our observed sequences could have evolved from. Calculating the most likely common ancestor is known as finding a *consensus sequence* because each of our sequence gets one 'vote' at every position, and the consensus sequence displays the nucleotide that gets the most votes. Here is an example finding the consensus sequence of the RNA strings `['AUCCAG', 'AUAAUC', 'UUCAUG', 'AUCUGG','AUUGUC']`. The bolded nucleotides are those that receive the most votes at each position.\n",
    "\n",
    "<table>\n",
    "  <tr>\n",
    "      <td><b>seq1:</b></td>\n",
    "      <td><b>A</b></td>\n",
    "      <td><b>U</b></td>\n",
    "      <td><b>C</b></td>\n",
    "    <td>C</td>\n",
    "    <td>A</td>\n",
    "      <td><b>G</b></td>\n",
    "  </tr>\n",
    "    \n",
    "   <tr>\n",
    "       <td><b>seq2:</b></td>\n",
    "       <td><b>A</b></td>\n",
    "       <td><b>U</b></td>\n",
    "    <td>A</td>\n",
    "    <td><b>A</b></td>\n",
    "       <td><b>U</b></td>\n",
    "    <td>C</td>\n",
    "  </tr>\n",
    "    \n",
    "   <tr>\n",
    "       <td><b>seq3:</b></td>\n",
    "    <td>U</td>\n",
    "       <td><b>U</b></td>\n",
    "       <td><b>C</b></td>\n",
    "       <td><b>A</b></td>\n",
    "       <td><b>U</b></td>\n",
    "       <td><b>G</b></td>\n",
    "  </tr>\n",
    "    \n",
    "  <tr>\n",
    "    <td><b>seq4:</b></td>\n",
    "      <td><b>A</b></td>\n",
    "      <td><b>U</b></td>\n",
    "      <td><b>C</b></td>\n",
    "    <td>U</td>\n",
    "    <td>G</td>\n",
    "      <td><b>G</b></td>\n",
    "  </tr>\n",
    " \n",
    "  <tr>\n",
    "    <td><b>seq5:</b></td>\n",
    "      <td><b>A</b></td>\n",
    "      <td><b>U</b></td>\n",
    "    <td>U</td>\n",
    "    <td>G</td>\n",
    "      <td><b>U</b></td>\n",
    "    <td>C</td>\n",
    " </tr>\n",
    "</table>\n",
    "\n",
    "**consensus = AUCAUG**"
   ]
  },
  {
   "cell_type": "markdown",
   "metadata": {},
   "source": [
    "This last example brings together a lot of the things you learned from camp and this tutorial, including for loops, string concatenation, lists, functions, and if-elif-else conditions. It's pretty tricky so try and read every line carefully and compare it to something you have seen before. One strategy to help you understand unfamiliar code is to add extra `print()` statements to see the values of variables at different points. "
   ]
  },
  {
   "cell_type": "code",
   "execution_count": 23,
   "metadata": {},
   "outputs": [],
   "source": [
    "rna_family = ['ACGUUAGA','ACGUUAGC','UCGUGAGC','ACGGGUGC','UCAUCAGC','AGGUUCGC','GGGUUAGC'] # rna_list\n",
    "my_seq_len = 8  # sequence_len\n",
    "      \n",
    "def consensus(rna_list,sequence_len):\n",
    "    \n",
    "    # Why are these lists full of zeros at first?\n",
    "    a_counts = [0]*sequence_len\n",
    "    u_counts = [0]*sequence_len\n",
    "    g_counts = [0]*sequence_len\n",
    "    c_counts = [0]*sequence_len\n",
    "    \n",
    "    for rna in rna_family:\n",
    "        for i in range(len(rna)): # this is a for loop inside a for loop, what we call a nested loop\n",
    "            if rna[i] == 'A':\n",
    "                a_counts[i] = a_counts[i]+1\n",
    "            elif rna[i] == 'U':\n",
    "                u_counts[i] = u_counts[i]+1\n",
    "            elif rna[i] == \"G\":\n",
    "                g_counts[i] = g_counts[i]+1\n",
    "            elif rna[i] == \"C\":\n",
    "                c_counts[i] = c_counts[i]+1\n",
    "                \n",
    "    print(\"counts(A): \",a_counts)\n",
    "    print(\"counts(U): \",u_counts)\n",
    "    print(\"counts(C): \",c_counts)\n",
    "    print(\"counts(G): \",g_counts)\n",
    "    print()\n",
    "                \n",
    "    ancestor = ''\n",
    "    \n",
    "    for i in range(sequence_len):\n",
    "        character = ''\n",
    "        count = 0\n",
    "        # How do these if statements help us find the character with the most votes?\n",
    "        if a_counts[i] > count:\n",
    "            count = a_counts[i]\n",
    "            character = 'A'\n",
    "        if c_counts[i] > count:\n",
    "            count = c_counts[i]\n",
    "            character = 'C'\n",
    "        if g_counts[i] > count:\n",
    "            count = g_counts[i]\n",
    "            character = 'G'\n",
    "        if u_counts[i] > count:\n",
    "            count = u_counts[i]\n",
    "            character = 'U'        \n",
    "        ancestor = ancestor + character\n",
    "        \n",
    "    return ancestor\n",
    "            "
   ]
  },
  {
   "cell_type": "markdown",
   "metadata": {},
   "source": [
    "Let's try it out with a set of RNA that we believe to be derived from a common ancestor"
   ]
  },
  {
   "cell_type": "code",
   "execution_count": 24,
   "metadata": {},
   "outputs": [
    {
     "name": "stdout",
     "output_type": "stream",
     "text": [
      "counts(A):  [4, 0, 1, 0, 0, 5, 0, 1]\n",
      "counts(U):  [2, 0, 0, 6, 4, 1, 0, 0]\n",
      "counts(C):  [0, 5, 0, 0, 1, 1, 0, 6]\n",
      "counts(G):  [1, 2, 6, 1, 2, 0, 7, 0]\n",
      "\n",
      "consensus sequence: ACGUUAGC\n"
     ]
    }
   ],
   "source": [
    "ancestor = consensus(rna_family,my_seq_len)    \n",
    "print(\"consensus sequence:\",ancestor)"
   ]
  },
  {
   "cell_type": "markdown",
   "metadata": {},
   "source": [
    "If you made it this far, **congrats! You are well on your way to mastering Python and bioinformatics!** We hope you enjoyed solving these puzzles and that you will check out some of these additional resources to continue your learning journey."
   ]
  },
  {
   "cell_type": "markdown",
   "metadata": {},
   "source": [
    "## Additional Resources"
   ]
  },
  {
   "cell_type": "markdown",
   "metadata": {},
   "source": [
    "**Note :** This notebook is adapted heavily from problems from the ROSALIND platform. You can find many more advanced bioinformatics challenges [here](http://rosalind.info/problems/locations/).\n",
    "\n",
    "Next steps in Python - [Google's Python Class](https://developers.google.com/edu/python/)\n",
    "\n",
    "More biology - [Khan Academy](https://www.khanacademy.org/science/biology)\n"
   ]
  },
  {
   "cell_type": "code",
   "execution_count": null,
   "metadata": {},
   "outputs": [],
   "source": []
  }
 ],
 "metadata": {
  "kernelspec": {
   "display_name": "Python 3",
   "language": "python",
   "name": "python3"
  },
  "language_info": {
   "codemirror_mode": {
    "name": "ipython",
    "version": 3
   },
   "file_extension": ".py",
   "mimetype": "text/x-python",
   "name": "python",
   "nbconvert_exporter": "python",
   "pygments_lexer": "ipython3",
   "version": "3.6.4"
  }
 },
 "nbformat": 4,
 "nbformat_minor": 4
}
